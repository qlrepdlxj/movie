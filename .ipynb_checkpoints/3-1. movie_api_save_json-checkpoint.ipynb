{
 "cells": [
  {
   "cell_type": "markdown",
   "metadata": {},
   "source": [
    "### 3. KOBIS OPENAPI\n",
    "\n",
    "영화관 입장권 통합 전산망 OPENAPI를 사용하여 일일 박스오피스 자료를 가져오고 JSON파일로 저장"
   ]
  },
  {
   "cell_type": "markdown",
   "metadata": {},
   "source": [
    "--------------------------------------------------\n",
    "### API 활용\n",
    "--------------------------------------------------"
   ]
  },
  {
   "cell_type": "code",
   "execution_count": 1,
   "metadata": {},
   "outputs": [],
   "source": [
    "import os\n",
    "import requests\n",
    "import json\n",
    "import calendar\n",
    "from tqdm import tqdm\n",
    "from tqdm import tqdm_notebook\n",
    "from datetime import date, timedelta\n",
    "\n",
    "key='ad816991534afeaef71f07e7336b0d61'\n",
    "movie_info_path='/root/movie/data/'"
   ]
  },
  {
   "cell_type": "code",
   "execution_count": 2,
   "metadata": {},
   "outputs": [],
   "source": [
    "def check_dir(start_date,end_date):    \n",
    "    start_year = int(start_date.year)\n",
    "    end_year = int(end_date.year)\n",
    "    year = start_year\n",
    "    for i in tqdm(range(start_year,end_year+1)):        \n",
    "        if(os.path.isdir(movie_info_path+str(year))!=1):\n",
    "            os.mkdir(movie_info_path+str(year)+'/')\n",
    "            print(\"create \"+str(year)+\" folder\") \n",
    "        year += 1"
   ]
  },
  {
   "cell_type": "markdown",
   "metadata": {},
   "source": [
    "연도별 폴더가 존재하는지 확인한 뒤 없으면 생성"
   ]
  },
  {
   "cell_type": "code",
   "execution_count": 3,
   "metadata": {},
   "outputs": [],
   "source": [
    "def daily_box_office_to_json(start_date,end_date):    \n",
    "    tmp_date = start_date\n",
    "    startDt = int(str(start_date)[0:4]+str(start_date)[5:7]+str(start_date)[8:10])\n",
    "    endDt = int(str(end_date)[0:4]+str(end_date)[5:7]+str(end_date)[8:10])\n",
    "    days = end_date - start_date\n",
    "    for i in tqdm(range(0,days.days+1)):\n",
    "        targetDt = int(str(tmp_date)[0:4]+str(tmp_date)[5:7]+str(tmp_date)[8:10])\n",
    "        \n",
    "        if(os.path.isfile(\"/root/movie/data/\"+str(targetDt)[0:4]+'/'+str(targetDt)+'.json')!=1):\n",
    "            url='http://www.kobis.or.kr/kobisopenapi/webservice/rest/boxoffice/searchDailyBoxOfficeList.json?key='+key+'&targetDt='+str(targetDt)\n",
    "            res = requests.get(url)\n",
    "            text = res.text\n",
    "            d = json.loads(text)\n",
    "            with open('data/'+str(targetDt)[0:4]+'/'+str(targetDt)+'.json', 'w', encoding=\"utf-8\") as make_file:\n",
    "                json.dump(d, make_file, ensure_ascii=False, indent=\"\\t\")\n",
    "        tmp_date += timedelta(1)"
   ]
  },
  {
   "cell_type": "markdown",
   "metadata": {},
   "source": [
    "일일 박스오피스 자료를 찾고 없으면 API를 통해 자료를 받아온다. 파일은 해당일을 이름으로 지정하고 JSON 타입으로 폴더에 저장"
   ]
  },
  {
   "cell_type": "code",
   "execution_count": 4,
   "metadata": {},
   "outputs": [
    {
     "name": "stderr",
     "output_type": "stream",
     "text": [
      "100%|██████████| 1/1 [00:00<00:00, 4206.92it/s]\n",
      "100%|██████████| 365/365 [00:00<00:00, 58689.71it/s]\n"
     ]
    }
   ],
   "source": [
    "start_date = date(2017,1,1)\n",
    "end_date = date(2017,12,31)\n",
    "check_dir(start_date,end_date)\n",
    "daily_box_office_to_json(start_date,end_date)"
   ]
  },
  {
   "cell_type": "markdown",
   "metadata": {},
   "source": [
    "샘플 데이터로 2017년 전체 자료를 받아온다"
   ]
  },
  {
   "cell_type": "code",
   "execution_count": 5,
   "metadata": {},
   "outputs": [],
   "source": [
    "import pandas as pd\n",
    "import requests\n",
    "import datetime\n",
    "import json\n",
    "from tqdm import tqdm_notebook\n",
    "from dateutil.relativedelta import relativedelta\n",
    "\n",
    "my_date = datetime.date(2017, 1, 1)"
   ]
  },
  {
   "cell_type": "code",
   "execution_count": 6,
   "metadata": {},
   "outputs": [],
   "source": [
    "start_date = date(2017,1,1)\n",
    "targetDt = str(start_date)[0:4]+str(start_date)[5:7]+str(start_date)[8:10]\n",
    "with open('data/'+str(targetDt)[0:4]+'/'+str(targetDt)+'.json', 'r', encoding=\"utf-8\") as read_file:\n",
    "    d = json.load(read_file)"
   ]
  },
  {
   "cell_type": "code",
   "execution_count": 7,
   "metadata": {},
   "outputs": [],
   "source": [
    "def daily_boxoffice(start_date, end_date) :\n",
    "    \n",
    "    final_list = []\n",
    "\n",
    "    for single_date in tqdm_notebook(pd.date_range(start_date, end_date)) :\n",
    "        targetDt = str(single_date)[0:4]+str(single_date)[5:7]+str(single_date)[8:10]\n",
    "        with open('data/'+str(targetDt)[0:4]+'/'+str(targetDt)+'.json', 'r', encoding=\"utf-8\") as read_file:\n",
    "            d = json.load(read_file)\n",
    "\n",
    "        for item in d[\"boxOfficeResult\"][\"dailyBoxOfficeList\"] :\n",
    "            value_list = []\n",
    "            key_list = []\n",
    "            for key, value in item.items() :\n",
    "                key_list.append(key)\n",
    "                value_list.append(value)\n",
    "\n",
    "            value_list.append(single_date)\n",
    "            key_list.append('CurrentDate')\n",
    "            final_list.append(value_list)\n",
    "\n",
    "    return pd.DataFrame(final_list, columns=key_list)"
   ]
  },
  {
   "cell_type": "code",
   "execution_count": 8,
   "metadata": {},
   "outputs": [
    {
     "data": {
      "application/vnd.jupyter.widget-view+json": {
       "model_id": "1da554da0b7b4f30b8abbc3d1be5486e",
       "version_major": 2,
       "version_minor": 0
      },
      "text/plain": [
       "HBox(children=(IntProgress(value=0, max=365), HTML(value='')))"
      ]
     },
     "metadata": {},
     "output_type": "display_data"
    },
    {
     "name": "stdout",
     "output_type": "stream",
     "text": [
      "\n"
     ]
    }
   ],
   "source": [
    "start_date = date(2017,1,1)\n",
    "end_date = date(2017,12,31)\n",
    "a = daily_boxoffice(start_date, end_date)"
   ]
  },
  {
   "cell_type": "markdown",
   "metadata": {},
   "source": [
    "### 일별 박스 오피스를 월별로 추출, 영화코드 리스트 추출\n"
   ]
  },
  {
   "cell_type": "code",
   "execution_count": 9,
   "metadata": {},
   "outputs": [
    {
     "data": {
      "application/vnd.jupyter.widget-view+json": {
       "model_id": "6b351b5dc4f8451eb1960f7513a24fd8",
       "version_major": 2,
       "version_minor": 0
      },
      "text/plain": [
       "HBox(children=(IntProgress(value=0, max=12), HTML(value='')))"
      ]
     },
     "metadata": {},
     "output_type": "display_data"
    },
    {
     "data": {
      "application/vnd.jupyter.widget-view+json": {
       "model_id": "b6814da292c141479b897e1c2ebb08db",
       "version_major": 2,
       "version_minor": 0
      },
      "text/plain": [
       "HBox(children=(IntProgress(value=0, max=31), HTML(value='')))"
      ]
     },
     "metadata": {},
     "output_type": "display_data"
    },
    {
     "data": {
      "application/vnd.jupyter.widget-view+json": {
       "model_id": "5f86bc2e9f564b95a041ec20792e5093",
       "version_major": 2,
       "version_minor": 0
      },
      "text/plain": [
       "HBox(children=(IntProgress(value=0, max=28), HTML(value='')))"
      ]
     },
     "metadata": {},
     "output_type": "display_data"
    },
    {
     "data": {
      "application/vnd.jupyter.widget-view+json": {
       "model_id": "158cfcb6ae6945f1afa3b3ac467128e4",
       "version_major": 2,
       "version_minor": 0
      },
      "text/plain": [
       "HBox(children=(IntProgress(value=0, max=31), HTML(value='')))"
      ]
     },
     "metadata": {},
     "output_type": "display_data"
    },
    {
     "data": {
      "application/vnd.jupyter.widget-view+json": {
       "model_id": "d3c804be0063416fa0cd445c90dbcbd6",
       "version_major": 2,
       "version_minor": 0
      },
      "text/plain": [
       "HBox(children=(IntProgress(value=0, max=30), HTML(value='')))"
      ]
     },
     "metadata": {},
     "output_type": "display_data"
    },
    {
     "data": {
      "application/vnd.jupyter.widget-view+json": {
       "model_id": "b33ed5f9b43c4bd4ae32ad18eef81c29",
       "version_major": 2,
       "version_minor": 0
      },
      "text/plain": [
       "HBox(children=(IntProgress(value=0, max=31), HTML(value='')))"
      ]
     },
     "metadata": {},
     "output_type": "display_data"
    },
    {
     "data": {
      "application/vnd.jupyter.widget-view+json": {
       "model_id": "0eeedc37c98b49c1942879606a080567",
       "version_major": 2,
       "version_minor": 0
      },
      "text/plain": [
       "HBox(children=(IntProgress(value=0, max=30), HTML(value='')))"
      ]
     },
     "metadata": {},
     "output_type": "display_data"
    },
    {
     "data": {
      "application/vnd.jupyter.widget-view+json": {
       "model_id": "572e42db431140329faa33488a696402",
       "version_major": 2,
       "version_minor": 0
      },
      "text/plain": [
       "HBox(children=(IntProgress(value=0, max=31), HTML(value='')))"
      ]
     },
     "metadata": {},
     "output_type": "display_data"
    },
    {
     "data": {
      "application/vnd.jupyter.widget-view+json": {
       "model_id": "79af7d55f59244ae97d5a128781c8c57",
       "version_major": 2,
       "version_minor": 0
      },
      "text/plain": [
       "HBox(children=(IntProgress(value=0, max=31), HTML(value='')))"
      ]
     },
     "metadata": {},
     "output_type": "display_data"
    },
    {
     "data": {
      "application/vnd.jupyter.widget-view+json": {
       "model_id": "e6c5681d7dd5409b83f1a047d263e353",
       "version_major": 2,
       "version_minor": 0
      },
      "text/plain": [
       "HBox(children=(IntProgress(value=0, max=30), HTML(value='')))"
      ]
     },
     "metadata": {},
     "output_type": "display_data"
    },
    {
     "data": {
      "application/vnd.jupyter.widget-view+json": {
       "model_id": "4b5d0bc276b04152862468b149f3d913",
       "version_major": 2,
       "version_minor": 0
      },
      "text/plain": [
       "HBox(children=(IntProgress(value=0, max=31), HTML(value='')))"
      ]
     },
     "metadata": {},
     "output_type": "display_data"
    },
    {
     "data": {
      "application/vnd.jupyter.widget-view+json": {
       "model_id": "e3c2f584ddf445269ec6a7ecc72bffce",
       "version_major": 2,
       "version_minor": 0
      },
      "text/plain": [
       "HBox(children=(IntProgress(value=0, max=30), HTML(value='')))"
      ]
     },
     "metadata": {},
     "output_type": "display_data"
    },
    {
     "data": {
      "application/vnd.jupyter.widget-view+json": {
       "model_id": "2207ac48173949d4800a6c0e728d5bec",
       "version_major": 2,
       "version_minor": 0
      },
      "text/plain": [
       "HBox(children=(IntProgress(value=0, max=31), HTML(value='')))"
      ]
     },
     "metadata": {},
     "output_type": "display_data"
    },
    {
     "name": "stdout",
     "output_type": "stream",
     "text": [
      "\n"
     ]
    }
   ],
   "source": [
    "movie_code_list_all=pd.DataFrame()\n",
    "for i in tqdm_notebook(range(12)):\n",
    "    start_date = my_date + relativedelta(months=i)\n",
    "    end_date = start_date+ relativedelta(months=1) - datetime.timedelta(days=1)\n",
    "    \n",
    "    daily_boxoffice_data = daily_boxoffice(start_date, end_date)\n",
    "    startdate=start_date.strftime('%Y%m%d')\n",
    "    \n",
    "    enddate=end_date.strftime('%Y%m%d')\n",
    "    \n",
    "    movie_code_list = pd.DataFrame({'movieCd' :daily_boxoffice_data.movieCd.drop_duplicates(), 'movieNm':daily_boxoffice_data.movieNm.drop_duplicates(), 'director':'','Rate' : 0})\n",
    "    \n",
    "    \n",
    "    daily_boxoffice_data.to_csv(\"daliy_boxoffice_data_\"+startdate+\"~\"+enddate+\".csv\", index=False)\n",
    "    movie_code_list.to_csv(\"movie_code_list_\"+startdate+\"~\"+enddate+\".csv\", index=False)\n",
    "    \n",
    "    movie_code_list_all = movie_code_list.append(movie_code_list_all)\n",
    "    movie_code_list_all = movie_code_list_all.drop_duplicates()\n",
    "    movie_code_list_all.to_csv(\"movie_code_list_all.csv\", index=False)"
   ]
  },
  {
   "cell_type": "markdown",
   "metadata": {},
   "source": [
    "--------------------------------------------------------------\n",
    "영화 코드를 통해 영화 정보 파일 불러오기\n",
    "--------------------------------------------------------------"
   ]
  },
  {
   "cell_type": "code",
   "execution_count": 10,
   "metadata": {},
   "outputs": [],
   "source": [
    "def movie_info_api(df):\n",
    "    for i in range(0,len(df['movieCd'])):\n",
    "        movieCd = str(df['movieCd'][i])\n",
    "\n",
    "        if(os.path.isfile(\"/root/movie/movie_info/\"+movieCd+\".json\")):\n",
    "#             print(movieCd+\".json already exist!\")\n",
    "            pass\n",
    "        else:\n",
    "            url = 'http://www.kobis.or.kr/kobisopenapi/webservice/rest/movie/searchMovieInfo.json?key='\\\n",
    "                +key+'&movieCd='+movieCd    \n",
    "            res = requests.get(url)\n",
    "            text = res.text\n",
    "            d = json.loads(text)\n",
    "#             print(movieCd+\".json is created!\")\n",
    "            with open('movie_info/'+movieCd+'.json', 'w', encoding=\"utf-8\") as make_file:\n",
    "                json.dump(d, make_file, ensure_ascii=False, indent=\"\\t\")"
   ]
  },
  {
   "cell_type": "code",
   "execution_count": 11,
   "metadata": {},
   "outputs": [],
   "source": [
    "df = pd.read_csv('movie_code_list_all.csv')\n",
    "movie_info_api(df)"
   ]
  },
  {
   "cell_type": "code",
   "execution_count": 12,
   "metadata": {},
   "outputs": [],
   "source": [
    "#영화데이터  : txt 로 저장 함수 정의\n",
    "def movie_data(lists) :    \n",
    "    dict_list = dict()\n",
    "\n",
    "    for movie in lists :\n",
    "        with open('movie_info/'+movie+'.json', 'r', encoding=\"utf-8\") as read_file:\n",
    "            d = json.load(read_file)\n",
    "        \n",
    "        dict_list[movie] = d['movieInfoResult']['movieInfo'] #dict_list[movie] 가 있어야 append형식으로 됨. 없으면 마지막것만 추출\n",
    "    return dict_list"
   ]
  },
  {
   "cell_type": "code",
   "execution_count": 13,
   "metadata": {},
   "outputs": [],
   "source": [
    "movie_info=movie_data(movie_code_list_all.movieCd) \n",
    "with open('movie_info.txt', 'w', encoding='utf-8') as outfile:   #딕셔너리를 json으로 저장\n",
    "    json.dump(movie_info, outfile, ensure_ascii=False)"
   ]
  },
  {
   "cell_type": "code",
   "execution_count": 15,
   "metadata": {},
   "outputs": [
    {
     "name": "stderr",
     "output_type": "stream",
     "text": [
      "/usr/local/lib/python3.6/dist-packages/ipykernel_launcher.py:6: SettingWithCopyWarning: \n",
      "A value is trying to be set on a copy of a slice from a DataFrame\n",
      "\n",
      "See the caveats in the documentation: http://pandas.pydata.org/pandas-docs/stable/indexing.html#indexing-view-versus-copy\n",
      "  \n",
      "/usr/local/lib/python3.6/dist-packages/pandas/core/indexing.py:189: SettingWithCopyWarning: \n",
      "A value is trying to be set on a copy of a slice from a DataFrame\n",
      "\n",
      "See the caveats in the documentation: http://pandas.pydata.org/pandas-docs/stable/indexing.html#indexing-view-versus-copy\n",
      "  self._setitem_with_indexer(indexer, value)\n",
      "/usr/local/lib/python3.6/dist-packages/ipykernel_launcher.py:9: SettingWithCopyWarning: \n",
      "A value is trying to be set on a copy of a slice from a DataFrame\n",
      "\n",
      "See the caveats in the documentation: http://pandas.pydata.org/pandas-docs/stable/indexing.html#indexing-view-versus-copy\n",
      "  if __name__ == '__main__':\n"
     ]
    }
   ],
   "source": [
    "movie_code_list_all = pd.read_csv(\"movie_code_list_all.csv\")\n",
    "for i in range(len(movie_code_list_all)):\n",
    "    with open('movie_info/'+str(movie_code_list_all['movieCd'][i])+'.json', 'r', encoding=\"utf-8\") as make_file:\n",
    "        d = json.load(make_file)\n",
    "    if(d['movieInfoResult']['movieInfo']['directors'] != []):\n",
    "        movie_code_list_all['director'][i]=d['movieInfoResult']['movieInfo']['directors'][0]['peopleNm']\n",
    "        \n",
    "    else:\n",
    "        movie_code_list_all['director'][i] = '---'"
   ]
  },
  {
   "cell_type": "code",
   "execution_count": 16,
   "metadata": {},
   "outputs": [],
   "source": [
    "movie_code_list_all.to_csv(\"movie_code_add_director.csv\")"
   ]
  },
  {
   "cell_type": "code",
   "execution_count": null,
   "metadata": {},
   "outputs": [],
   "source": []
  }
 ],
 "metadata": {
  "kernelspec": {
   "display_name": "Python 3",
   "language": "python",
   "name": "python3"
  },
  "language_info": {
   "codemirror_mode": {
    "name": "ipython",
    "version": 3
   },
   "file_extension": ".py",
   "mimetype": "text/x-python",
   "name": "python",
   "nbconvert_exporter": "python",
   "pygments_lexer": "ipython3",
   "version": "3.6.7"
  }
 },
 "nbformat": 4,
 "nbformat_minor": 2
}
