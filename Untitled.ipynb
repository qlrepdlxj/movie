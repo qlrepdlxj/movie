{
 "cells": [
  {
   "cell_type": "code",
   "execution_count": 3,
   "metadata": {},
   "outputs": [],
   "source": [
    "from bs4 import BeautifulSoup\n",
    "from urllib.request import urlopen\n",
    "import pandas as pd\n",
    "from tqdm import tqdm\n",
    "from tqdm import tqdm_notebook\n",
    "from datetime import date"
   ]
  },
  {
   "cell_type": "code",
   "execution_count": null,
   "metadata": {},
   "outputs": [],
   "source": [
    "# dff\n",
    "star1=[]\n",
    "star2=[]\n",
    "star3=[]\n",
    "list1=[]\n",
    "list2=[]\n",
    "num1=dff[0]\n",
    "for i in tqdm_notebook(range(0,len(dff[0]))):\n",
    "    url1 = \"https://movie.naver.com/movie/bi/mi/basic.nhn?code=\"\n",
    "    page1 = urlopen(url1+dff[1][i])\n",
    "    soup1 = BeautifulSoup(page1, \"html.parser\")\n",
    "    b = soup1.find_all('span','st_on')\n",
    "    list1.append(dff[0][i])\n",
    "    list2.append(dff[1][i])\n",
    "    if(len(b)<3):\n",
    "        star1.append(0)\n",
    "        star2.append(0)\n",
    "        star3.append(0)\n",
    "    else:\n",
    "        if(b[2]['style'][6:-1] == '0'):\n",
    "            star1.append(round(float(b[0]['style'][6:-1])/10,2))\n",
    "            star2.append(0)\n",
    "            star3.append(round(float(b[1]['style'][6:-1])/10,2))\n",
    "        else:\n",
    "            star1.append(round(float(b[0]['style'][6:-1])/10,2))\n",
    "            star2.append(round(float(b[1]['style'][6:-1])/10,2))\n",
    "            star3.append(round(float(b[2]['style'][6:-1])/10,2))\n",
    "movie_dict2.append(list(zip(list1,list2,star1,star2,star3)))"
   ]
  },
  {
   "cell_type": "code",
   "execution_count": null,
   "metadata": {},
   "outputs": [],
   "source": [
    "# dff\n",
    "import re\n",
    "star1=[]\n",
    "star2=[]\n",
    "star3=[]\n",
    "list1=[]\n",
    "list2=[]\n",
    "# num1=dff[0]\n",
    "df = pd.read_csv('/root/movie/movie_04.csv')\n",
    "list1 = df['naver_movieCd']\n",
    "for lis in list1:\n",
    "    li = str(lis)[:-2]\n",
    "    try:\n",
    "        url1 = \"https://movie.naver.com/movie/bi/mi/detail.nhn?code=\"+li\n",
    "        page1 = urlopen(url1)\n",
    "        soup1 = BeautifulSoup(page1, \"html.parser\")\n",
    "        b = soup1.findAll('dl','agency_name')[0].findAll('dd')[1].getText()\n",
    "        b = re.sub('[-=.#/?:$}]', '', b)\n",
    "        b =\" \".join(b.split())        \n",
    "        c = re.split(',',b)\n",
    "    except IndexError:\n",
    "        url1 = \"https://movie.naver.com/movie/bi/mi/detail.nhn?code=\"+li\n",
    "        page1 = urlopen(url1)\n",
    "        soup1 = BeautifulSoup(page1, \"html.parser\")\n",
    "        b = soup1.findAll('dl','agency_name')[0].findAll('dd')[0].getText()\n",
    "        b = re.sub('[-=.#/?:$}]', '', b)\n",
    "        b =\" \".join(b.split())\n",
    "        c = re.split(',',b)\n",
    "    print(li)\n",
    "    print(b)\n",
    "    print(c)"
   ]
  },
  {
   "cell_type": "code",
   "execution_count": null,
   "metadata": {},
   "outputs": [],
   "source": [
    "list1[50:100]"
   ]
  },
  {
   "cell_type": "code",
   "execution_count": 50,
   "metadata": {},
   "outputs": [],
   "source": [
    "import pandas as pd\n",
    "import glob\n",
    "lists = glob.glob(\"/root/final/*.csv\")\n",
    "# lists[0][12:-4]\n",
    "for lis in lists:\n",
    "    df = pd.read_csv(lis)\n",
    "    df = df.dropna()\n",
    "    df.to_csv(lis,index=False)"
   ]
  },
  {
   "cell_type": "code",
   "execution_count": null,
   "metadata": {},
   "outputs": [],
   "source": []
  }
 ],
 "metadata": {
  "kernelspec": {
   "display_name": "R",
   "language": "R",
   "name": "ir"
  },
  "language_info": {
   "codemirror_mode": "r",
   "file_extension": ".r",
   "mimetype": "text/x-r-source",
   "name": "R",
   "pygments_lexer": "r",
   "version": "3.4.4"
  }
 },
 "nbformat": 4,
 "nbformat_minor": 2
}
