{
 "cells": [
  {
   "cell_type": "code",
   "execution_count": 22,
   "metadata": {},
   "outputs": [],
   "source": [
    "library(plotly)\n",
    "# Sys.setenv(\"plotly_username\"=\"qlrepdlxj\")\n",
    "# Sys.setenv(\"plotly_api_key\"=\"p3j4RHZVUd6lFgKybuvu\")\n",
    "Sys.setenv(\"plotly_username\"=\"whfvm2018\")\n",
    "Sys.setenv(\"plotly_api_key\"=\"XEY2NVYyamaviUt6HF8p\")"
   ]
  },
  {
   "cell_type": "code",
   "execution_count": 23,
   "metadata": {},
   "outputs": [],
   "source": [
    "data = read.csv(\"/home/ubuntu/movie/data/85579.csv\")\n",
    "data = data.frame(data)\n",
    "# data\n",
    "x1 <- data$집계날짜\n",
    "y1 <- data$일일관람객\n",
    "y2 <- data$검색량\n",
    "y3 <- data$리뷰수\n",
    "y4 <- data$평점/10"
   ]
  },
  {
   "cell_type": "code",
   "execution_count": 24,
   "metadata": {},
   "outputs": [],
   "source": [
    "ay <- list(\n",
    "  tickfont = list(color = \"red\"),\n",
    "  overlaying = \"y\",\n",
    "  side = \"right\",\n",
    "  title = \"\"\n",
    ")\n",
    "p <- plot_ly(x = ~1:length(x1), y = y1, name = \"일일관람객\",type='bar') %>%\n",
    "  add_lines(x = ~1:length(x1), y = y2, name = \"검색량\", yaxis = \"y2\") %>%\n",
    "  layout(\n",
    "    title = \"\", yaxis2 = ay,\n",
    "    xaxis = list(title=\"\")\n",
    "  )\n",
    "# Create a shareable link to your chart\n",
    "# Set up API credentials: https://plot.ly/r/getting-started\n",
    " chart_link = api_create(p, filename=\"part3. 신과함께1\")\n",
    " chart_link"
   ]
  },
  {
   "cell_type": "code",
   "execution_count": 25,
   "metadata": {},
   "outputs": [],
   "source": [
    "ay <- list(\n",
    "  tickfont = list(color = \"red\"),\n",
    "  overlaying = \"y\",\n",
    "  side = \"right\",\n",
    "  title = \"\"\n",
    ")\n",
    "p <- plot_ly(x = ~1:length(x1), y = y1, name = \"일일관람객\",type='bar') %>%\n",
    "  add_lines(x = ~1:length(x1), y = y3, name = \"리뷰수\", yaxis = \"y3\") %>%\n",
    "  layout(\n",
    "    title = \"\", yaxis2 = ay,\n",
    "    xaxis = list(title=\"\")\n",
    "  )\n",
    "# Create a shareable link to your chart\n",
    "# Set up API credentials: https://plot.ly/r/getting-started\n",
    " chart_link = api_create(p, filename=\"part3. 신과함께2\")\n",
    " chart_link"
   ]
  },
  {
   "cell_type": "code",
   "execution_count": 26,
   "metadata": {},
   "outputs": [],
   "source": [
    "ay <- list(\n",
    "  tickfont = list(color = \"red\"),\n",
    "  overlaying = \"y\",\n",
    "  side = \"right\",\n",
    "  title = \"\"\n",
    ")\n",
    "p3 <- plot_ly(x = ~1:length(x1), y = y1, name = \"일일관람객\",type='bar') %>%\n",
    "  add_lines(x = ~1:length(x1), y = y4, name = \"평점\", yaxis = ~0:10) %>%\n",
    "  layout(\n",
    "    title = \"\", yaxis2 = ay,\n",
    "    xaxis = list(title=\"\")\n",
    "  )\n",
    "# Create a shareable link to your chart\n",
    "# Set up API credentials: https://plot.ly/r/getting-started\n",
    " chart_link = api_create(p3, filename=\"part3. 신과함께3\")\n",
    " chart_link"
   ]
  },
  {
   "cell_type": "code",
   "execution_count": 19,
   "metadata": {},
   "outputs": [],
   "source": [
    "data = read.csv(\"/home/ubuntu/movie/data/146469.csv\")\n",
    "data = data.frame(data)\n",
    "# data\n",
    "x1 <- data$집계날짜\n",
    "y1 <- data$일일관람객\n",
    "y2 <- data$검색량\n",
    "y3 <- data$리뷰수\n",
    "y4 <- data$평점/10"
   ]
  },
  {
   "cell_type": "code",
   "execution_count": 50,
   "metadata": {},
   "outputs": [],
   "source": [
    "ay <- list(\n",
    "  tickfont = list(color = \"red\"),\n",
    "  overlaying = \"y\",\n",
    "  side = \"right\",\n",
    "  title = \"\"\n",
    ")\n",
    "p <- plot_ly(x = ~1:length(x1), y = y1, name = \"일일관람객\",type='bar') %>%\n",
    "  add_lines(x = ~1:length(x1), y = y2, name = \"검색량\", yaxis = \"y2\") %>%\n",
    "  layout(\n",
    "    title = \"\", yaxis2 = ay,\n",
    "    xaxis = list(title=\"\")\n",
    "  )\n",
    "# Create a shareable link to your chart\n",
    "# Set up API credentials: https://plot.ly/r/getting-started\n",
    " chart_link = api_create(p, filename=\"part3. 택시운전사1\")\n",
    " chart_link"
   ]
  },
  {
   "cell_type": "code",
   "execution_count": 16,
   "metadata": {},
   "outputs": [
    {
     "name": "stderr",
     "output_type": "stream",
     "text": [
      "Found a grid already named: 'part3. 택시운전사2 Grid'. Since fileopt='overwrite', I'll try to update it\n",
      "Found a plot already named: 'part3. 택시운전사2'. Since fileopt='overwrite', I'll try to update it\n"
     ]
    }
   ],
   "source": [
    "ay <- list(\n",
    "  tickfont = list(color = \"red\"),\n",
    "  overlaying = \"y\",\n",
    "  side = \"right\",\n",
    "  title = \"\"\n",
    ")\n",
    "p <- plot_ly(x = ~1:length(x1), y = y1, name = \"일일관람객\",type='bar') %>%\n",
    "  add_lines(x = ~1:length(x1), y = y3, name = \"리뷰수\", yaxis = \"y3\") %>%\n",
    "  layout(\n",
    "    title = \"\", yaxis2 = ay,\n",
    "    xaxis = list(title=\"\")\n",
    "  )\n",
    "# Create a shareable link to your chart\n",
    "# Set up API credentials: https://plot.ly/r/getting-started\n",
    " chart_link = api_create(p, filename=\"part3. 택시운전사2\")\n",
    " chart_link"
   ]
  },
  {
   "cell_type": "code",
   "execution_count": 21,
   "metadata": {},
   "outputs": [
    {
     "name": "stderr",
     "output_type": "stream",
     "text": [
      "Found a grid already named: 'part3. 택시운전사3 Grid'. Since fileopt='overwrite', I'll try to update it\n",
      "Found a plot already named: 'part3. 택시운전사3'. Since fileopt='overwrite', I'll try to update it\n"
     ]
    }
   ],
   "source": [
    "ay <- list(\n",
    "  tickfont = list(color = \"red\"),\n",
    "  overlaying = \"y\",\n",
    "  side = \"right\",\n",
    "  title = \"\"\n",
    ")\n",
    "p3 <- plot_ly(x = ~1:length(x1), y = y1, name = \"일일관람객\",type='bar') %>%\n",
    "  add_lines(x = ~1:length(x1), y = y4, name = \"평점\", yaxis = ~0:10) %>%\n",
    "  layout(\n",
    "    title = \"\", yaxis2 = ay,\n",
    "    xaxis = list(title=\"\")\n",
    "  )\n",
    "# Create a shareable link to your chart\n",
    "# Set up API credentials: https://plot.ly/r/getting-started\n",
    " chart_link = api_create(p3, filename=\"part3. 택시운전사3\")\n",
    " chart_link"
   ]
  },
  {
   "cell_type": "code",
   "execution_count": 27,
   "metadata": {},
   "outputs": [],
   "source": [
    "data = read.csv(\"/home/ubuntu/movie/data/146506.csv\")\n",
    "data = data.frame(data)\n",
    "# data\n",
    "x1 <- data$집계날짜\n",
    "y1 <- data$일일관람객\n",
    "y2 <- data$검색량\n",
    "y3 <- data$리뷰수\n",
    "y4 <- data$평점/10"
   ]
  },
  {
   "cell_type": "code",
   "execution_count": 28,
   "metadata": {},
   "outputs": [],
   "source": [
    "ay <- list(\n",
    "  tickfont = list(color = \"red\"),\n",
    "  overlaying = \"y\",\n",
    "  side = \"right\",\n",
    "  title = \"\"\n",
    ")\n",
    "p <- plot_ly(x = ~1:length(x1), y = y1, name = \"일일관람객\",type='bar') %>%\n",
    "  add_lines(x = ~1:length(x1), y = y2, name = \"검색량\", yaxis = \"y2\") %>%\n",
    "  layout(\n",
    "    title = \"\", yaxis2 = ay,\n",
    "    xaxis = list(title=\"\")\n",
    "  )\n",
    "# Create a shareable link to your chart\n",
    "# Set up API credentials: https://plot.ly/r/getting-started\n",
    " chart_link = api_create(p, filename=\"part3. 군함도1\")\n",
    " chart_link"
   ]
  },
  {
   "cell_type": "code",
   "execution_count": 29,
   "metadata": {},
   "outputs": [],
   "source": [
    "ay <- list(\n",
    "  tickfont = list(color = \"red\"),\n",
    "  overlaying = \"y\",\n",
    "  side = \"right\",\n",
    "  title = \"\"\n",
    ")\n",
    "p <- plot_ly(x = ~1:length(x1), y = y1, name = \"일일관람객\",type='bar') %>%\n",
    "  add_lines(x = ~1:length(x1), y = y3, name = \"리뷰수\", yaxis = \"y3\") %>%\n",
    "  layout(\n",
    "    title = \"\", yaxis2 = ay,\n",
    "    xaxis = list(title=\"\")\n",
    "  )\n",
    "# Create a shareable link to your chart\n",
    "# Set up API credentials: https://plot.ly/r/getting-started\n",
    " chart_link = api_create(p, filename=\"part3. 군함도2\")\n",
    " chart_link"
   ]
  },
  {
   "cell_type": "code",
   "execution_count": 30,
   "metadata": {},
   "outputs": [],
   "source": [
    "ay <- list(\n",
    "  tickfont = list(color = \"red\"),\n",
    "  overlaying = \"y\",\n",
    "  side = \"right\",\n",
    "  title = \"\"\n",
    ")\n",
    "p3 <- plot_ly(x = ~1:length(x1), y = y1, name = \"일일관람객\",type='bar') %>%\n",
    "  add_lines(x = ~1:length(x1), y = y4, name = \"평점\", yaxis = ~0:10) %>%\n",
    "  layout(\n",
    "    title = \"\", yaxis2 = ay,\n",
    "    xaxis = list(title=\"\")\n",
    "  )\n",
    "# Create a shareable link to your chart\n",
    "# Set up API credentials: https://plot.ly/r/getting-started\n",
    " chart_link = api_create(p3, filename=\"part3. 군함도3\")\n",
    " chart_link"
   ]
  },
  {
   "cell_type": "code",
   "execution_count": null,
   "metadata": {},
   "outputs": [],
   "source": []
  }
 ],
 "metadata": {
  "kernelspec": {
   "display_name": "R",
   "language": "R",
   "name": "ir"
  },
  "language_info": {
   "codemirror_mode": "r",
   "file_extension": ".r",
   "mimetype": "text/x-r-source",
   "name": "R",
   "pygments_lexer": "r",
   "version": "3.4.4"
  }
 },
 "nbformat": 4,
 "nbformat_minor": 2
}
