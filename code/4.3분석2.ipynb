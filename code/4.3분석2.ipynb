{
 "cells": [
  {
   "cell_type": "code",
   "execution_count": 6,
   "metadata": {},
   "outputs": [
    {
     "data": {
      "text/plain": [
       "[1] ‘4.7.1’"
      ]
     },
     "metadata": {},
     "output_type": "display_data"
    }
   ],
   "source": [
    "library(plotly)\n",
    "packageVersion('plotly')"
   ]
  },
  {
   "cell_type": "code",
   "execution_count": 52,
   "metadata": {},
   "outputs": [],
   "source": [
    "Sys.setenv(\"plotly_username\"=\"qlrepdlxj\")\n",
    "Sys.setenv(\"plotly_api_key\"=\"p3j4RHZVUd6lFgKybuvu\")"
   ]
  },
  {
   "cell_type": "code",
   "execution_count": 8,
   "metadata": {},
   "outputs": [
    {
     "name": "stderr",
     "output_type": "stream",
     "text": [
      "Found a grid already named: 'r-docs-midwest-boxplots Grid'. Since fileopt='overwrite', I'll try to update it\n"
     ]
    },
    {
     "ename": "ERROR",
     "evalue": "Error: Client error: (400) Bad Request\n\tSorry, a file already exists with this name.\n",
     "output_type": "error",
     "traceback": [
      "Error: Client error: (400) Bad Request\n\tSorry, a file already exists with this name.\nTraceback:\n",
      "1. api_create(p, filename = \"r-docs-midwest-boxplots\")",
      "2. api_create.plotly(p, filename = \"r-docs-midwest-boxplots\")",
      "3. api(\"plots\", \"POST\", to_JSON(bod))",
      "4. structure(process(resp), class = \"api\")",
      "5. process(resp)",
      "6. process.default(resp)",
      "7. json_content(relay_error(resp))",
      "8. relay_error(resp)",
      "9. stop(httr::http_status(resp)[[\"message\"]], \"\\n\\t\", paste(msgs, \n .     collapse = \"\\n\\t\"), call. = FALSE)"
     ]
    }
   ],
   "source": [
    "library(plotly)\n",
    "p <- plot_ly(midwest, x = ~percollege, color = ~state, type = \"box\")\n",
    "api_create(p, filename = \"r-docs-midwest-boxplots\")"
   ]
  },
  {
   "cell_type": "code",
   "execution_count": 41,
   "metadata": {
    "scrolled": true
   },
   "outputs": [
    {
     "name": "stderr",
     "output_type": "stream",
     "text": [
      "Found a grid already named: 'axes-mulitple1 Grid'. Since fileopt='overwrite', I'll try to update it\n",
      "Found a plot already named: 'axes-mulitple1'. Since fileopt='overwrite', I'll try to update it\n"
     ]
    }
   ],
   "source": [
    "# double axis\n",
    "library(plotly)\n",
    "# library(jsonlite)\n",
    "\n",
    "data = read.csv(\"/home/ubuntu/movie/data/final/146469.csv\")\n",
    "data = data.frame(data)\n",
    "x1 <- data$집계날짜\n",
    "y1 <- 100*data$일일관람객/max(data$일일관람객)\n",
    "y2 <- data$검색량\n",
    "\n",
    "ay <- list(\n",
    "  tickfont = list(color = \"red\"),\n",
    "  overlaying = \"y\",\n",
    "  side = \"right\",\n",
    "  title = \"\"\n",
    ")\n",
    "p <- plot_ly(x = ~1:length(x1), y = y1, name = \"일일관람객\",type='bar') %>%\n",
    "  add_lines(x = ~1:length(x1), y = y2, name = \"검색량\", yaxis = \"y2\") %>%\n",
    "  layout(\n",
    "    title = \"\", yaxis2 = ay,\n",
    "    xaxis = list(title=\"\")\n",
    "  )\n",
    "\n",
    "# Create a shareable link to your chart\n",
    "# Set up API credentials: https://plot.ly/r/getting-started\n",
    " chart_link = api_create(p, filename=\"axes-mulitple1\")\n",
    " chart_link"
   ]
  },
  {
   "cell_type": "code",
   "execution_count": 42,
   "metadata": {},
   "outputs": [],
   "source": [
    "# double axis\n",
    "library(plotly)\n",
    "\n",
    "\n",
    "data = read.csv(\"/home/ubuntu/movie/data/final/85579.csv\")\n",
    "data = data.frame(data)\n",
    "x1 <- data$집계날짜\n",
    "y1 <- 100*data$일일관람객/max(data$일일관람객)\n",
    "y2 <- data$검색량\n",
    "\n",
    "ay <- list(\n",
    "  tickfont = list(color = \"red\"),\n",
    "  overlaying = \"y\",\n",
    "  side = \"right\",\n",
    "  title = \"\"\n",
    ")\n",
    "p <- plot_ly(x = ~1:length(x1), y = y1, name = \"일일관람객\",type='bar') %>%\n",
    "  add_lines(x = ~1:length(x1), y = y2, name = \"검색량\", yaxis = \"y2\") %>%\n",
    "  layout(\n",
    "    title = \"\", yaxis2 = ay,\n",
    "    xaxis = list(title=\"\")\n",
    "  )\n",
    "# Create a shareable link to your chart\n",
    "# Set up API credentials: https://plot.ly/r/getting-started\n",
    " chart_link = api_create(p, filename=\"axes-mulitple2\")\n",
    " chart_link"
   ]
  },
  {
   "cell_type": "code",
   "execution_count": 72,
   "metadata": {
    "scrolled": true
   },
   "outputs": [
    {
     "name": "stderr",
     "output_type": "stream",
     "text": [
      "Found a grid already named: 'pie-styled Grid'. Since fileopt='overwrite', I'll try to update it\n",
      "Found a plot already named: 'pie-styled'. Since fileopt='overwrite', I'll try to update it\n"
     ]
    }
   ],
   "source": [
    "library(plotly)\n",
    "library(jsonlite)\n",
    "data <- fromJSON('/home/ubuntu/movie/raw_data/daily/20171224.json')\n",
    "data <- data.frame(data)\n",
    "# data\n",
    "\n",
    "# USPersonalExpenditure <- data.frame(\"Categorie\" = rownames(USPersonalExpenditure), USPersonalExpenditure)\n",
    "# data <- USPersonalExpenditure[, c('Categorie', 'X1960')]\n",
    "\n",
    "color <- c('#555555','#666666','#777777','#888888','#999999','#aaaaaa','#bbbbbb','#cccccc','#dddddd','#eeeeee') \n",
    "#c('rgb(0,0,0)','rgb(128,128,128)') \n",
    "#c('rgb(211,94,96)', 'rgb(128,133,133)', 'rgb(144,103,167)', 'rgb(171,104,87)', 'rgb(114,147,203)')\n",
    "\n",
    "p <- plot_ly(data, labels = ~boxOfficeResult.dailyBoxOfficeList.movieNm, values = ~boxOfficeResult.dailyBoxOfficeList.audiCnt, type = 'pie',\n",
    "        textposition = 'inside',\n",
    "        textinfo = 'label+percent',\n",
    "        insidetextfont = list(color = '#FFFFFF'),\n",
    "        hoverinfo = 'text',\n",
    "        text = ~paste(boxOfficeResult.dailyBoxOfficeList.audiCnt, '명'),\n",
    "        marker = list(colors = color,\n",
    "                      line = list(color = '#FFFFFF', width = 1)),\n",
    "                      #The 'pull' attribute can also be used to create space between the sectors\n",
    "        showlegend = FALSE) %>%\n",
    "  layout(title = '2017년 12월 24일 TOP10',\n",
    "         xaxis = list(showgrid = FALSE, zeroline = FALSE, showticklabels = FALSE),\n",
    "         yaxis = list(showgrid = FALSE, zeroline = FALSE, showticklabels = FALSE))\n",
    "\n",
    "# Create a shareable link to your chart\n",
    "# Set up API credentials: https://plot.ly/r/getting-started\n",
    "             \n",
    "chart_link = api_create(p, filename=\"pie-styled\")\n",
    "chart_link"
   ]
  },
  {
   "cell_type": "code",
   "execution_count": null,
   "metadata": {},
   "outputs": [],
   "source": []
  },
  {
   "cell_type": "code",
   "execution_count": null,
   "metadata": {},
   "outputs": [],
   "source": []
  }
 ],
 "metadata": {
  "kernelspec": {
   "display_name": "R",
   "language": "R",
   "name": "ir"
  },
  "language_info": {
   "codemirror_mode": "r",
   "file_extension": ".r",
   "mimetype": "text/x-r-source",
   "name": "R",
   "pygments_lexer": "r",
   "version": "3.4.4"
  }
 },
 "nbformat": 4,
 "nbformat_minor": 2
}
