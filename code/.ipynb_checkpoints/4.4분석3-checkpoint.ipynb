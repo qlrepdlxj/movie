{
 "cells": [
  {
   "cell_type": "code",
   "execution_count": 1,
   "metadata": {},
   "outputs": [
    {
     "name": "stderr",
     "output_type": "stream",
     "text": [
      "Loading required package: ggplot2\n",
      "\n",
      "Attaching package: ‘plotly’\n",
      "\n",
      "The following object is masked from ‘package:ggplot2’:\n",
      "\n",
      "    last_plot\n",
      "\n",
      "The following object is masked from ‘package:stats’:\n",
      "\n",
      "    filter\n",
      "\n",
      "The following object is masked from ‘package:graphics’:\n",
      "\n",
      "    layout\n",
      "\n"
     ]
    }
   ],
   "source": [
    "library(plotly)\n",
    "# Sys.setenv(\"plotly_username\"=\"qlrepdlxj\")\n",
    "# Sys.setenv(\"plotly_api_key\"=\"p3j4RHZVUd6lFgKybuvu\")\n",
    "Sys.setenv(\"plotly_username\"=\"whfvm2018\")\n",
    "Sys.setenv(\"plotly_api_key\"=\"XEY2NVYyamaviUt6HF8p\")"
   ]
  },
  {
   "cell_type": "code",
   "execution_count": 13,
   "metadata": {},
   "outputs": [],
   "source": [
    "data = read.csv(\"/home/ubuntu/movie/data/85579.csv\")\n",
    "data = data.frame(data)\n",
    "# data\n",
    "x1 <- data$집계날짜\n",
    "y1 <- data$일일관람객\n",
    "y2 <- data$검색량\n",
    "y3 <- data$리뷰수\n",
    "y4 <- data$평점/10"
   ]
  },
  {
   "cell_type": "code",
   "execution_count": 35,
   "metadata": {},
   "outputs": [],
   "source": [
    "ay <- list(\n",
    "  tickfont = list(color = \"red\"),\n",
    "  overlaying = \"y\",\n",
    "  side = \"right\",\n",
    "  title = \"\"\n",
    ")\n",
    "p <- plot_ly(x = ~1:length(x1), y = y1, name = \"일일관람객\",type='bar') %>%\n",
    "  add_lines(x = ~1:length(x1), y = y2, name = \"검색량\", yaxis = \"y2\") %>%\n",
    "  layout(\n",
    "    title = \"\", yaxis2 = ay,\n",
    "    xaxis = list(title=\"\")\n",
    "  )\n",
    "# Create a shareable link to your chart\n",
    "# Set up API credentials: https://plot.ly/r/getting-started\n",
    " chart_link = api_create(p, filename=\"part3. 신과함께1\")\n",
    " chart_link"
   ]
  },
  {
   "cell_type": "code",
   "execution_count": 14,
   "metadata": {},
   "outputs": [
    {
     "name": "stderr",
     "output_type": "stream",
     "text": [
      "Found a grid already named: 'part3. 신과함께2 Grid'. Since fileopt='overwrite', I'll try to update it\n",
      "Found a plot already named: 'part3. 신과함께2'. Since fileopt='overwrite', I'll try to update it\n"
     ]
    }
   ],
   "source": [
    "ay <- list(\n",
    "  tickfont = list(color = \"red\"),\n",
    "  overlaying = \"y\",\n",
    "  side = \"right\",\n",
    "  title = \"\"\n",
    ")\n",
    "p <- plot_ly(x = ~1:length(x1), y = y1, name = \"일일관람객\",type='bar') %>%\n",
    "  add_lines(x = ~1:length(x1), y = y3, name = \"리뷰수\", yaxis = \"y3\") %>%\n",
    "  layout(\n",
    "    title = \"\", yaxis2 = ay,\n",
    "    xaxis = list(title=\"\")\n",
    "  )\n",
    "# Create a shareable link to your chart\n",
    "# Set up API credentials: https://plot.ly/r/getting-started\n",
    " chart_link = api_create(p, filename=\"part3. 신과함께2\")\n",
    " chart_link"
   ]
  },
  {
   "cell_type": "code",
   "execution_count": 48,
   "metadata": {},
   "outputs": [
    {
     "name": "stderr",
     "output_type": "stream",
     "text": [
      "Found a grid already named: 'part3. 신과함께3 Grid'. Since fileopt='overwrite', I'll try to update it\n",
      "Found a plot already named: 'part3. 신과함께3'. Since fileopt='overwrite', I'll try to update it\n"
     ]
    }
   ],
   "source": [
    "ay <- list(\n",
    "  tickfont = list(color = \"red\"),\n",
    "  overlaying = \"y\",\n",
    "  side = \"right\",\n",
    "  title = \"\"\n",
    ")\n",
    "p3 <- plot_ly(x = ~1:length(x1), y = y1, name = \"일일관람객\",type='bar') %>%\n",
    "  add_lines(x = ~1:length(x1), y = y4, name = \"평점\", yaxis = ~0:10) %>%\n",
    "  layout(\n",
    "    title = \"\", yaxis2 = ay,\n",
    "    xaxis = list(title=\"\")\n",
    "  )\n",
    "# Create a shareable link to your chart\n",
    "# Set up API credentials: https://plot.ly/r/getting-started\n",
    " chart_link = api_create(p3, filename=\"part3. 신과함께3\")\n",
    " chart_link"
   ]
  },
  {
   "cell_type": "code",
   "execution_count": 19,
   "metadata": {},
   "outputs": [],
   "source": [
    "data = read.csv(\"/home/ubuntu/movie/data/146469.csv\")\n",
    "data = data.frame(data)\n",
    "# data\n",
    "x1 <- data$집계날짜\n",
    "y1 <- data$일일관람객\n",
    "y2 <- data$검색량\n",
    "y3 <- data$리뷰수\n",
    "y4 <- data$평점/10"
   ]
  },
  {
   "cell_type": "code",
   "execution_count": 50,
   "metadata": {},
   "outputs": [],
   "source": [
    "ay <- list(\n",
    "  tickfont = list(color = \"red\"),\n",
    "  overlaying = \"y\",\n",
    "  side = \"right\",\n",
    "  title = \"\"\n",
    ")\n",
    "p <- plot_ly(x = ~1:length(x1), y = y1, name = \"일일관람객\",type='bar') %>%\n",
    "  add_lines(x = ~1:length(x1), y = y2, name = \"검색량\", yaxis = \"y2\") %>%\n",
    "  layout(\n",
    "    title = \"\", yaxis2 = ay,\n",
    "    xaxis = list(title=\"\")\n",
    "  )\n",
    "# Create a shareable link to your chart\n",
    "# Set up API credentials: https://plot.ly/r/getting-started\n",
    " chart_link = api_create(p, filename=\"part3. 택시운전사1\")\n",
    " chart_link"
   ]
  },
  {
   "cell_type": "code",
   "execution_count": 16,
   "metadata": {},
   "outputs": [
    {
     "name": "stderr",
     "output_type": "stream",
     "text": [
      "Found a grid already named: 'part3. 택시운전사2 Grid'. Since fileopt='overwrite', I'll try to update it\n",
      "Found a plot already named: 'part3. 택시운전사2'. Since fileopt='overwrite', I'll try to update it\n"
     ]
    }
   ],
   "source": [
    "ay <- list(\n",
    "  tickfont = list(color = \"red\"),\n",
    "  overlaying = \"y\",\n",
    "  side = \"right\",\n",
    "  title = \"\"\n",
    ")\n",
    "p <- plot_ly(x = ~1:length(x1), y = y1, name = \"일일관람객\",type='bar') %>%\n",
    "  add_lines(x = ~1:length(x1), y = y3, name = \"리뷰수\", yaxis = \"y3\") %>%\n",
    "  layout(\n",
    "    title = \"\", yaxis2 = ay,\n",
    "    xaxis = list(title=\"\")\n",
    "  )\n",
    "# Create a shareable link to your chart\n",
    "# Set up API credentials: https://plot.ly/r/getting-started\n",
    " chart_link = api_create(p, filename=\"part3. 택시운전사2\")\n",
    " chart_link"
   ]
  },
  {
   "cell_type": "code",
   "execution_count": 21,
   "metadata": {},
   "outputs": [
    {
     "name": "stderr",
     "output_type": "stream",
     "text": [
      "Found a grid already named: 'part3. 택시운전사3 Grid'. Since fileopt='overwrite', I'll try to update it\n",
      "Found a plot already named: 'part3. 택시운전사3'. Since fileopt='overwrite', I'll try to update it\n"
     ]
    }
   ],
   "source": [
    "ay <- list(\n",
    "  tickfont = list(color = \"red\"),\n",
    "  overlaying = \"y\",\n",
    "  side = \"right\",\n",
    "  title = \"\"\n",
    ")\n",
    "p3 <- plot_ly(x = ~1:length(x1), y = y1, name = \"일일관람객\",type='bar') %>%\n",
    "  add_lines(x = ~1:length(x1), y = y4, name = \"평점\", yaxis = ~0:10) %>%\n",
    "  layout(\n",
    "    title = \"\", yaxis2 = ay,\n",
    "    xaxis = list(title=\"\")\n",
    "  )\n",
    "# Create a shareable link to your chart\n",
    "# Set up API credentials: https://plot.ly/r/getting-started\n",
    " chart_link = api_create(p3, filename=\"part3. 택시운전사3\")\n",
    " chart_link"
   ]
  },
  {
   "cell_type": "code",
   "execution_count": 17,
   "metadata": {},
   "outputs": [],
   "source": [
    "data = read.csv(\"/home/ubuntu/movie/data/146506.csv\")\n",
    "data = data.frame(data)\n",
    "# data\n",
    "x1 <- data$집계날짜\n",
    "y1 <- data$일일관람객\n",
    "y2 <- data$검색량\n",
    "y3 <- data$리뷰수\n",
    "y4 <- data$평점/10"
   ]
  },
  {
   "cell_type": "code",
   "execution_count": 53,
   "metadata": {},
   "outputs": [],
   "source": [
    "ay <- list(\n",
    "  tickfont = list(color = \"red\"),\n",
    "  overlaying = \"y\",\n",
    "  side = \"right\",\n",
    "  title = \"\"\n",
    ")\n",
    "p <- plot_ly(x = ~1:length(x1), y = y1, name = \"일일관람객\",type='bar') %>%\n",
    "  add_lines(x = ~1:length(x1), y = y2, name = \"검색량\", yaxis = \"y2\") %>%\n",
    "  layout(\n",
    "    title = \"\", yaxis2 = ay,\n",
    "    xaxis = list(title=\"\")\n",
    "  )\n",
    "# Create a shareable link to your chart\n",
    "# Set up API credentials: https://plot.ly/r/getting-started\n",
    " chart_link = api_create(p, filename=\"part3. 군함도1\")\n",
    " chart_link"
   ]
  },
  {
   "cell_type": "code",
   "execution_count": 18,
   "metadata": {},
   "outputs": [],
   "source": [
    "ay <- list(\n",
    "  tickfont = list(color = \"red\"),\n",
    "  overlaying = \"y\",\n",
    "  side = \"right\",\n",
    "  title = \"\"\n",
    ")\n",
    "p <- plot_ly(x = ~1:length(x1), y = y1, name = \"일일관람객\",type='bar') %>%\n",
    "  add_lines(x = ~1:length(x1), y = y3, name = \"리뷰수\", yaxis = \"y3\") %>%\n",
    "  layout(\n",
    "    title = \"\", yaxis2 = ay,\n",
    "    xaxis = list(title=\"\")\n",
    "  )\n",
    "# Create a shareable link to your chart\n",
    "# Set up API credentials: https://plot.ly/r/getting-started\n",
    " chart_link = api_create(p, filename=\"part3. 군함도2\")\n",
    " chart_link"
   ]
  },
  {
   "cell_type": "code",
   "execution_count": 54,
   "metadata": {},
   "outputs": [],
   "source": [
    "ay <- list(\n",
    "  tickfont = list(color = \"red\"),\n",
    "  overlaying = \"y\",\n",
    "  side = \"right\",\n",
    "  title = \"\"\n",
    ")\n",
    "p3 <- plot_ly(x = ~1:length(x1), y = y1, name = \"일일관람객\",type='bar') %>%\n",
    "  add_lines(x = ~1:length(x1), y = y4, name = \"평점\", yaxis = ~0:10) %>%\n",
    "  layout(\n",
    "    title = \"\", yaxis2 = ay,\n",
    "    xaxis = list(title=\"\")\n",
    "  )\n",
    "# Create a shareable link to your chart\n",
    "# Set up API credentials: https://plot.ly/r/getting-started\n",
    " chart_link = api_create(p3, filename=\"part3. 군함도3\")\n",
    " chart_link"
   ]
  },
  {
   "cell_type": "code",
   "execution_count": null,
   "metadata": {},
   "outputs": [],
   "source": []
  }
 ],
 "metadata": {
  "kernelspec": {
   "display_name": "R",
   "language": "R",
   "name": "ir"
  },
  "language_info": {
   "codemirror_mode": "r",
   "file_extension": ".r",
   "mimetype": "text/x-r-source",
   "name": "R",
   "pygments_lexer": "r",
   "version": "3.4.4"
  }
 },
 "nbformat": 4,
 "nbformat_minor": 2
}
