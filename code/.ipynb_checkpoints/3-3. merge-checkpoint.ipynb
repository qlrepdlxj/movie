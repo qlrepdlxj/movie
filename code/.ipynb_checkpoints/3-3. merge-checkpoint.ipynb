{
 "cells": [
  {
   "cell_type": "markdown",
   "metadata": {},
   "source": [
    "# 경로 -> 절대경로로 수정하기"
   ]
  },
  {
   "cell_type": "code",
   "execution_count": null,
   "metadata": {},
   "outputs": [],
   "source": []
  },
  {
   "cell_type": "code",
   "execution_count": null,
   "metadata": {},
   "outputs": [],
   "source": []
  },
  {
   "cell_type": "code",
   "execution_count": 1,
   "metadata": {},
   "outputs": [],
   "source": [
    "import pandas as pd\n",
    "import numpy as np"
   ]
  },
  {
   "cell_type": "code",
   "execution_count": 2,
   "metadata": {},
   "outputs": [],
   "source": [
    "# \n",
    "df1 = pd.read_csv('/home/ubuntu/movie/data/movie_code_add_director.csv')\n",
    "df2 = pd.read_csv('/home/ubuntu/movie/data/naver_movie.csv')\n",
    "df1 = df1.drop('Unnamed: 0',1)\n",
    "df1 = df1.drop('Rate',1)\n",
    "df3 = pd.merge(df1,df2,how='left',on='movieNm')"
   ]
  },
  {
   "cell_type": "code",
   "execution_count": null,
   "metadata": {},
   "outputs": [],
   "source": [
    "for i in range(len(df3['ntz_see_score'])):\n",
    "    if(np.isnan(df3['ntz_see_score'][i])):\n",
    "        print(str(i)+\" NaN\")\n",
    "        name = df3['movieNm'][i].replace(' ','')\n",
    "        for j in range(len(df2)):\n",
    "            df2_name = df2['movieNm'][j].replace(' ','')\n",
    "            if(df2_name[0:8] == name[0:8]):\n",
    "                df3['naver_movieCd'][i] = df2['naver_movieCd'][j]\n",
    "                df3['ntz_see_score'][i] = df2['ntz_see_score'][j]\n",
    "                df3['spc_score'][i] = df2['spc_score'][j]\n",
    "                df3['ntz_score'][i] = df2['ntz_score'][j]\n",
    "                if(df2_name[0:6] == name[0:6]):\n",
    "                    df3['naver_movieCd'][i] = df2['naver_movieCd'][j]\n",
    "                    df3['ntz_see_score'][i] = df2['ntz_see_score'][j]\n",
    "                    df3['spc_score'][i] = df2['spc_score'][j]\n",
    "                    df3['ntz_score'][i] = df2['ntz_score'][j]\n",
    "                    if(df2_name[0:4] == name[0:4]):     \n",
    "                        df3['naver_movieCd'][i] = df2['naver_movieCd'][j]\n",
    "                        df3['ntz_see_score'][i] = df2['ntz_see_score'][j]\n",
    "                        df3['spc_score'][i] = df2['spc_score'][j]\n",
    "                        df3['ntz_score'][i] = df2['ntz_score'][j]            \n",
    "    elif(np.isnan(df3['naver_movieCd'][i])):\n",
    "        df3['naver_movieCd'][i] = 0\n",
    "        df3['ntz_see_score'][i] = 0\n",
    "        df3['spc_score'][i] = 0\n",
    "        df3['ntz_score'][i] = 0"
   ]
  },
  {
   "cell_type": "code",
   "execution_count": 4,
   "metadata": {},
   "outputs": [],
   "source": [
    "df3 = df3.dropna()\n",
    "df3 = df3.reset_index(drop=True)\n",
    "df3.to_csv('/home/ubuntu/movie/data/naver_movie_all.csv',index=False)"
   ]
  },
  {
   "cell_type": "code",
   "execution_count": null,
   "metadata": {},
   "outputs": [],
   "source": []
  }
 ],
 "metadata": {
  "kernelspec": {
   "display_name": "Python 3",
   "language": "python",
   "name": "python3"
  },
  "language_info": {
   "codemirror_mode": {
    "name": "ipython",
    "version": 3
   },
   "file_extension": ".py",
   "mimetype": "text/x-python",
   "name": "python",
   "nbconvert_exporter": "python",
   "pygments_lexer": "ipython3",
   "version": "3.6.7"
  }
 },
 "nbformat": 4,
 "nbformat_minor": 2
}
